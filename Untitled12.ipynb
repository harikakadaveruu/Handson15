{
 "cells": [
  {
   "cell_type": "code",
   "execution_count": 3,
   "id": "bc0a50f6",
   "metadata": {},
   "outputs": [
    {
     "name": "stdout",
     "output_type": "stream",
     "text": [
      "Floyd-Warshall Algorithm: {'A': {'A': 0, 'B': 1, 'C': 3, 'D': 4}, 'B': {'A': 1, 'B': 0, 'C': 2, 'D': 3}, 'C': {'A': 3, 'B': 2, 'C': 0, 'D': 1}, 'D': {'A': 4, 'B': 3, 'C': 1, 'D': 0}}\n"
     ]
    }
   ],
   "source": [
    "import heapq\n",
    "def floyd_warshall(graph):\n",
    "    vertices = graph.keys()\n",
    "    distance = {v: dict.fromkeys(vertices, float('infinity')) for v in vertices}\n",
    "    for v in vertices:\n",
    "        distance[v][v] = 0\n",
    "\n",
    "    for v in graph:\n",
    "        for neighbor in graph[v]:\n",
    "            distance[v][neighbor] = graph[v][neighbor]\n",
    "\n",
    "    for k in vertices:\n",
    "        for i in vertices:\n",
    "            for j in vertices:\n",
    "                distance[i][j] = min(distance[i][j], distance[i][k] + distance[k][j])\n",
    "\n",
    "    return distance\n",
    "graph = {\n",
    "    'A': {'B': 1, 'C': 4},\n",
    "    'B': {'A': 1, 'C': 2, 'D': 5},\n",
    "    'C': {'A': 4, 'B': 2, 'D': 1},\n",
    "    'D': {'B': 5, 'C': 1}\n",
    "}\n",
    "\n",
    "print(\"Floyd-Warshall Algorithm:\", floyd_warshall(graph))"
   ]
  },
  {
   "cell_type": "code",
   "execution_count": null,
   "id": "ce08b9f0",
   "metadata": {},
   "outputs": [],
   "source": []
  }
 ],
 "metadata": {
  "kernelspec": {
   "display_name": "Python 3 (ipykernel)",
   "language": "python",
   "name": "python3"
  },
  "language_info": {
   "codemirror_mode": {
    "name": "ipython",
    "version": 3
   },
   "file_extension": ".py",
   "mimetype": "text/x-python",
   "name": "python",
   "nbconvert_exporter": "python",
   "pygments_lexer": "ipython3",
   "version": "3.11.5"
  }
 },
 "nbformat": 4,
 "nbformat_minor": 5
}
